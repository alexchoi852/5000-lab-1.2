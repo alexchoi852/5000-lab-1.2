{
 "cells": [
  {
   "cell_type": "markdown",
   "metadata": {},
   "source": [
    "---\n",
    "title: \"Sports\"\n",
    "author: \"Alex Choi\"\n",
    "format: revealjs\n",
    "bibliography: ../reference.bib\n",
    "---\n",
    "\n",
    "\n",
    "## Basketball\n",
    "\n",
    "-  A game played between two teams of five players in which goals are scored by throwing a ball through a netted hoop fixed above each end of the court\n",
    "- ![Basketball](https://www.ncaa.org/images/2023/3/30/MBB-WBB_BallHoop.JPG)\n",
    "\n",
    "## Tennis\n",
    "\n",
    "- A racket sport that is played either individually against a single opponent or between two teams of two players each\n",
    "- The findings from [@horvat2020use] can help find more insights into analyzing this sport and its outcomes \n",
    "\n",
    "## Baseball \n",
    "\n",
    "- A game played with a bat, a ball, and gloves between two teams of nine players each on a field with four white bases laid out in a diamond\n",
    "- ![Baseball](https://media.npr.org/assets/img/2023/04/11/gettyimages-522263342-baa84be310155f1956fdcbecd7f4e9e17c6ef2aa.jpg)\n"
   ]
  },
  {
   "cell_type": "code",
   "execution_count": 1,
   "metadata": {},
   "outputs": [
    {
     "name": "stdout",
     "output_type": "stream",
     "text": [
      "Shooting Percentage: 60.0%\n"
     ]
    }
   ],
   "source": [
    "#| code-fold: true\n",
    "shots = [1, 0, 1, 1, 0, 1, 0, 0, 1, 1]\n",
    "\n",
    "# Calculate shooting percentage\n",
    "shooting_percentage = sum(shots) / len(shots) * 100\n",
    "\n",
    "print(f\"Shooting Percentage: {shooting_percentage}%\")"
   ]
  },
  {
   "cell_type": "markdown",
   "metadata": {},
   "source": []
  }
 ],
 "metadata": {
  "kernelspec": {
   "display_name": "Python 3",
   "language": "python",
   "name": "python3"
  },
  "language_info": {
   "codemirror_mode": {
    "name": "ipython",
    "version": 3
   },
   "file_extension": ".py",
   "mimetype": "text/x-python",
   "name": "python",
   "nbconvert_exporter": "python",
   "pygments_lexer": "ipython3",
   "version": "3.8.13"
  },
  "orig_nbformat": 4
 },
 "nbformat": 4,
 "nbformat_minor": 2
}
