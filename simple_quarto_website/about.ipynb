{
  "cells": [
    {
      "cell_type": "markdown",
      "metadata": {},
      "source": [
        "---\n",
        "title: \"About\"\n",
        "---"
      ]
    },
    {
      "cell_type": "markdown",
      "metadata": {},
      "source": [
        "## Purpose\n",
        "\n",
        "Lorem ipsum dolor sit amet, consectetur adipiscing elit, sed do eiusmod tempor incididunt ut labore et dolore magna aliqua. A iaculis at erat pellentesque adipiscing commodo elit. Quam vulputate dignissim suspendisse in est ante. Tellus elementum sagittis vitae et leo duis ut. Malesuada nunc vel risus commodo viverra maecenas accumsan lacus vel. Aliquet risus feugiat in ante metus. Turpis massa sed elementum tempus egestas sed sed risus pretium. Orci a scelerisque purus semper eget duis at. Et malesuada fames ac turpis egestas. Facilisis gravida neque convallis a cras semper auctor. Risus ultricies tristique nulla aliquet enim tortor at auctor urna. Sed pulvinar proin gravida hendrerit lectus. Vitae elementum curabitur vitae nunc sed velit dignissim. Risus nullam eget felis eget nunc lobortis mattis.\n",
        "\n",
        "Eu lobortis elementum nibh tellus molestie. Nisi quis eleifend quam adipiscing vitae proin sagittis. Ut venenatis tellus in metus vulputate eu scelerisque. In pellentesque massa placerat duis ultricies. Diam ut venenatis tellus in metus vulputate eu scelerisque. Elit ut aliquam purus sit amet luctus venenatis lectus. Libero id faucibus nisl tincidunt eget nullam. Tempor commodo ullamcorper a lacus vestibulum sed arcu. Feugiat in fermentum posuere urna nec. Nisi est sit amet facilisis. Eu scelerisque felis imperdiet proin fermentum leo. Est ullamcorper eget nulla facilisi etiam dignissim. A diam maecenas sed enim ut sem. Cursus metus aliquam eleifend mi in nulla. In nisl nisi scelerisque eu. Condimentum lacinia quis vel eros donec ac odio tempor."
      ]
    },
    {
      "cell_type": "markdown",
      "metadata": {},
      "source": [
        "## History\n",
        "\n",
        "Lorem ipsum dolor sit amet, consectetur adipiscing elit, sed do eiusmod tempor incididunt ut labore et dolore magna aliqua. Hac habitasse platea dictumst vestibulum rhoncus est. Tincidunt dui ut ornare lectus sit amet est. Tristique magna sit amet purus gravida quis blandit turpis. Vel facilisis volutpat est velit egestas dui id ornare. Feugiat in ante metus dictum at tempor commodo ullamcorper a. Condimentum lacinia quis vel eros donec. Lobortis feugiat vivamus at augue. Sed nisi lacus sed viverra. Facilisi morbi tempus iaculis urna id volutpat lacus laoreet non. Aliquam faucibus purus in massa tempor nec feugiat nisl pretium. Laoreet sit amet cursus sit amet dictum sit. Scelerisque viverra mauris in aliquam sem fringilla ut morbi tincidunt. Dolor morbi non arcu risus quis varius quam quisque id.\n",
        "\n",
        "Aliquet porttitor lacus luctus accumsan tortor posuere ac ut consequat. Malesuada proin libero nunc consequat. Faucibus vitae aliquet nec ullamcorper sit amet risus. Non arcu risus quis varius quam. Ut venenatis tellus in metus vulputate eu scelerisque felis. Ipsum dolor sit amet consectetur adipiscing elit pellentesque habitant morbi. Ut lectus arcu bibendum at varius vel. Eu volutpat odio facilisis mauris sit. Blandit aliquam etiam erat velit scelerisque in dictum. Sagittis orci a scelerisque purus semper eget duis at tellus. Sed faucibus turpis in eu mi bibendum neque egestas congue. Consectetur lorem donec massa sapien faucibus et molestie. Nisl pretium fusce id velit. Lobortis scelerisque fermentum dui faucibus. Suspendisse interdum consectetur libero id faucibus nisl tincidunt. Nunc sed velit dignissim sodales."
      ]
    },
    {
      "cell_type": "markdown",
      "metadata": {},
      "source": [
        "## Behind the Scenes\n",
        "\n",
        "Lorem ipsum dolor sit amet, consectetur adipiscing elit, sed do eiusmod tempor incididunt ut labore et dolore magna aliqua. Scelerisque eu ultrices vitae auctor eu augue. Sit amet purus gravida quis blandit turpis. Egestas pretium aenean pharetra magna ac placerat vestibulum. In hac habitasse platea dictumst quisque sagittis purus sit amet. Ultricies mi quis hendrerit dolor magna eget. Consectetur purus ut faucibus pulvinar elementum. Sit amet porttitor eget dolor morbi. Purus gravida quis blandit turpis cursus in hac. Sed turpis tincidunt id aliquet risus feugiat. Viverra vitae congue eu consequat ac felis donec. Nam at lectus urna duis. Sit amet consectetur adipiscing elit pellentesque habitant morbi tristique. Amet mattis vulputate enim nulla aliquet porttitor. Ipsum a arcu cursus vitae congue. Egestas integer eget aliquet nibh praesent.\n",
        "\n",
        "Sagittis aliquam malesuada bibendum arcu vitae elementum curabitur vitae. Porta lorem mollis aliquam ut porttitor. Nulla pharetra diam sit amet nisl suscipit adipiscing. Posuere sollicitudin aliquam ultrices sagittis orci. Dictum at tempor commodo ullamcorper a lacus vestibulum sed arcu. Senectus et netus et malesuada fames ac turpis. Facilisi cras fermentum odio eu feugiat pretium nibh ipsum consequat. Sodales ut eu sem integer. Enim lobortis scelerisque fermentum dui faucibus in. Eget arcu dictum varius duis at consectetur lorem. Consectetur adipiscing elit pellentesque habitant morbi tristique senectus. Varius duis at consectetur lorem donec massa sapien faucibus. Nisl suscipit adipiscing bibendum est ultricies integer quis auctor. Nullam non nisi est sit amet facilisis magna etiam tempor. Ut morbi tincidunt augue interdum velit euismod in. Nibh nisl condimentum id venenatis a condimentum vitae sapien pellentesque. Posuere urna nec tincidunt praesent. Dignissim convallis aenean et tortor at."
      ]
    },
    {
      "cell_type": "markdown",
      "metadata": {},
      "source": [
        "### Scatterplot"
      ]
    },
    {
      "cell_type": "code",
      "execution_count": 3,
      "metadata": {},
      "outputs": [
        {
          "data": {
            "image/png": "[encoded data removed]",
            "text/plain": [
              "<Figure size 640x480 with 1 Axes>"
            ]
          },
          "metadata": {},
          "output_type": "display_data"
        }
      ],
      "source": [
        "import matplotlib.pyplot as plt\n",
        "\n",
        "x = [3, 12, 8, 13, 5, 7]\n",
        "y= [6, 10, 4, 5, 9, 3]\n",
        "\n",
        "plt.scatter(x,y)\n",
        "plt.show()"
      ]
    }
  ],
  "metadata": {
    "kernelspec": {
      "display_name": "Python 3",
      "language": "python",
      "name": "python3"
    },
    "language_info": {
      "codemirror_mode": {
        "name": "ipython",
        "version": 3
      },
      "file_extension": ".py",
      "mimetype": "text/x-python",
      "name": "python",
      "nbconvert_exporter": "python",
      "pygments_lexer": "ipython3",
      "version": "3.8.13"
    }
  },
  "nbformat": 4,
  "nbformat_minor": 4
}
